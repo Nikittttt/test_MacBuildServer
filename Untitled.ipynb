{
 "cells": [
  {
   "cell_type": "code",
   "execution_count": null,
   "metadata": {},
   "outputs": [],
   "source": []
  },
  {
   "cell_type": "code",
   "execution_count": null,
   "metadata": {},
   "outputs": [],
   "source": []
  },
  {
   "cell_type": "raw",
   "metadata": {},
   "source": [
    "Импортируем библиотеки"
   ]
  },
  {
   "cell_type": "code",
   "execution_count": 197,
   "metadata": {},
   "outputs": [],
   "source": [
    "import pandas as pd\n",
    "import numpy as np\n",
    "from pprint import pprint\n",
    "\n",
    "import httplib2\n",
    "import apiclient.discovery\n",
    "from oauth2client.service_account import ServiceAccountCredentials"
   ]
  },
  {
   "cell_type": "raw",
   "metadata": {},
   "source": [
    "Проба работы с Google Sheets API"
   ]
  },
  {
   "cell_type": "code",
   "execution_count": 208,
   "metadata": {},
   "outputs": [
    {
     "name": "stdout",
     "output_type": "stream",
     "text": [
      "{'majorDimension': 'COLUMNS',\n",
      " 'range': \"'Лист1'!A1:E10\",\n",
      " 'values': [[],\n",
      "            ['', '', 'This is B3', 'This is B4'],\n",
      "            ['', '', 'This is C3', 'This is C4'],\n",
      "            ['', '', '', '', 'This is D5', 'This is D6'],\n",
      "            ['', '', '', '', 'This is E5', '10']]}\n"
     ]
    }
   ],
   "source": [
    "\n",
    "# Файл, полученный в Google Developer Console\n",
    "CREDENTIALS_FILE = 'creds.json'\n",
    "# ID Google Sheets документа (можно взять из его URL)\n",
    "spreadsheet_id = '1y6OR3pfiiatq44WhVYJJ9h105N-LYJCAFsNtTFLQpmE'\n",
    "\n",
    "# Авторизуемся и получаем service — экземпляр доступа к API\n",
    "credentials = ServiceAccountCredentials.from_json_keyfile_name(\n",
    "    CREDENTIALS_FILE,\n",
    " ['https://www.googleapis.com/auth/spreadsheets',\n",
    "     'https://www.googleapis.com/auth/drive'])\n",
    "httpAuth = credentials.authorize(httplib2.Http())\n",
    "service = apiclient.discovery.build('sheets', 'v4', http = httpAuth)\n",
    "\n",
    "# Пример чтения файла\n",
    "values = service.spreadsheets().values().get(\n",
    "    spreadsheetId=spreadsheet_id,\n",
    "    range='A1:E10',\n",
    "    majorDimension='COLUMNS'\n",
    ").execute()\n",
    "pprint(values)\n",
    "\n",
    "# Пример записи в файл\n",
    "values = service.spreadsheets().values().batchUpdate(\n",
    "    spreadsheetId=spreadsheet_id,\n",
    "    body={\n",
    "        \"valueInputOption\": \"USER_ENTERED\",\n",
    "        \"data\": [\n",
    "            {\"range\": \"B3:C4\",\n",
    "             \"majorDimension\": \"ROWS\",\n",
    "             \"values\": [[\"This is B3\", \"This is C3\"], [\"This is B4\", \"This is C4\"]]},\n",
    "            {\"range\": \"D5:E6\",\n",
    "             \"majorDimension\": \"COLUMNS\",\n",
    "             \"values\": [[\"This is D5\", \"This is D6\"], [\"This is E5\", \"=5+5\"]]}\n",
    "\t]\n",
    "    }\n",
    ").execute()"
   ]
  },
  {
   "cell_type": "raw",
   "metadata": {},
   "source": [
    "Очищение после тестов"
   ]
  },
  {
   "cell_type": "code",
   "execution_count": 209,
   "metadata": {},
   "outputs": [],
   "source": [
    "values = service.spreadsheets().values().batchUpdate(\n",
    "    spreadsheetId=spreadsheet_id,\n",
    "    body={\n",
    "        \"valueInputOption\": \"USER_ENTERED\",\n",
    "        \"data\": [\n",
    "            {\"range\": \"A1:F10\",\n",
    "             \"majorDimension\": \"COLUMNS\",\n",
    "             \"values\": [['' for __ in range(10)] for _ in range(6)]}\n",
    "\t]\n",
    "    }\n",
    ").execute()"
   ]
  },
  {
   "cell_type": "raw",
   "metadata": {},
   "source": [
    "Чтение с с таблицы"
   ]
  },
  {
   "cell_type": "code",
   "execution_count": 210,
   "metadata": {},
   "outputs": [],
   "source": [
    "spreadsheet_id = '1Ycg7zTxds9DZnDvTrFcyNNKuTUxg6Yy6WF0a8Wc02WQ'\n",
    "\n",
    "# Авторизуемся и получаем service — экземпляр доступа к API\n",
    "credentials = ServiceAccountCredentials.from_json_keyfile_name(\n",
    "    CREDENTIALS_FILE,\n",
    " ['https://www.googleapis.com/auth/spreadsheets',\n",
    "     'https://www.googleapis.com/auth/drive'])\n",
    "httpAuth = credentials.authorize(httplib2.Http())\n",
    "service = apiclient.discovery.build('sheets', 'v4', http = httpAuth)\n",
    "\n",
    "# Чтение из вкладки leads\n",
    "values = service.spreadsheets().values().get(\n",
    "    spreadsheetId=spreadsheet_id,\n",
    "    range=\"'leads'!A1:F\",\n",
    "    majorDimension='ROWS'\n",
    ").execute()\n",
    "\n",
    "leads_df = pd.DataFrame(values['values'][1:],\n",
    "                   columns=values['values'][0])\n",
    "\n",
    "# Чтение из вкладки managers\n",
    "values = service.spreadsheets().values().get(\n",
    "    spreadsheetId=spreadsheet_id,\n",
    "    range=\"'managers'!A1:C\",\n",
    "    majorDimension='ROWS'\n",
    ").execute()\n",
    "\n",
    "managers_df = pd.DataFrame(values['values'][1:],\n",
    "                   columns=values['values'][0])\n",
    "\n",
    "# Чтение из вкладки clients\n",
    "values = service.spreadsheets().values().get(\n",
    "    spreadsheetId=spreadsheet_id,\n",
    "    range=\"'clients'!A1:C\",\n",
    "    majorDimension='ROWS'\n",
    ").execute()\n",
    "\n",
    "clients_df = pd.DataFrame(values['values'][1:],\n",
    "                   columns=values['values'][0])\n",
    "\n",
    "# Чтение из вкладки transactions\n",
    "values = service.spreadsheets().values().get(\n",
    "    spreadsheetId=spreadsheet_id,\n",
    "    range=\"'transactions'!A1:D\",\n",
    "    majorDimension='ROWS'\n",
    ").execute()\n",
    "\n",
    "transactions_df = pd.DataFrame(values['values'][1:],\n",
    "                   columns=values['values'][0])"
   ]
  },
  {
   "cell_type": "raw",
   "metadata": {},
   "source": [
    "Изучение файлов и переведение дат к типу дат из строк "
   ]
  },
  {
   "cell_type": "code",
   "execution_count": 211,
   "metadata": {},
   "outputs": [
    {
     "data": {
      "text/html": [
       "<div>\n",
       "<style scoped>\n",
       "    .dataframe tbody tr th:only-of-type {\n",
       "        vertical-align: middle;\n",
       "    }\n",
       "\n",
       "    .dataframe tbody tr th {\n",
       "        vertical-align: top;\n",
       "    }\n",
       "\n",
       "    .dataframe thead th {\n",
       "        text-align: right;\n",
       "    }\n",
       "</style>\n",
       "<table border=\"1\" class=\"dataframe\">\n",
       "  <thead>\n",
       "    <tr style=\"text-align: right;\">\n",
       "      <th></th>\n",
       "      <th>lead_id</th>\n",
       "      <th>created_at</th>\n",
       "      <th>d_utm_medium</th>\n",
       "      <th>d_utm_source</th>\n",
       "      <th>l_manager_id</th>\n",
       "      <th>l_client_id</th>\n",
       "    </tr>\n",
       "  </thead>\n",
       "  <tbody>\n",
       "    <tr>\n",
       "      <td>0</td>\n",
       "      <td>00678e71-0fb9-11eb-ac1a-c412f533dba1</td>\n",
       "      <td>2020-10-16 18:08:09</td>\n",
       "      <td>sms</td>\n",
       "      <td>viber</td>\n",
       "      <td>1e9c5562-0cfc-11ea-abe1-c412f533dba1</td>\n",
       "      <td>7264cf21-a31d-11e9-abb0-c412f533dba1</td>\n",
       "    </tr>\n",
       "    <tr>\n",
       "      <td>1</td>\n",
       "      <td>0078b05d-0f1f-11eb-ac1a-c412f533dba1</td>\n",
       "      <td>2020-10-15 23:45:40</td>\n",
       "      <td>cpc</td>\n",
       "      <td>instagram</td>\n",
       "      <td>d12fe765-b444-11e9-abb3-c412f533dba1</td>\n",
       "      <td>606c5b29-0f88-11eb-ac1a-c412f533dba1</td>\n",
       "    </tr>\n",
       "    <tr>\n",
       "      <td>2</td>\n",
       "      <td>007d1401-2af3-11eb-ac1f-c412f533dba1</td>\n",
       "      <td>2020-11-20 09:41:14</td>\n",
       "      <td>cpc</td>\n",
       "      <td>instagram</td>\n",
       "      <td>43756fa4-57a0-11e9-ab9a-c412f533dba1</td>\n",
       "      <td>1f389c6a-d5ab-11e9-abbe-c412f533dba1</td>\n",
       "    </tr>\n",
       "    <tr>\n",
       "      <td>3</td>\n",
       "      <td>0084e614-2fcc-11eb-ac1f-c412f533dba1</td>\n",
       "      <td>2020-11-26 13:44:40</td>\n",
       "      <td></td>\n",
       "      <td></td>\n",
       "      <td>00000000-0000-0000-0000-000000000000</td>\n",
       "      <td>00000000-0000-0000-0000-000000000000</td>\n",
       "    </tr>\n",
       "    <tr>\n",
       "      <td>4</td>\n",
       "      <td>009b1616-145d-11eb-ac1d-c412f533dba1</td>\n",
       "      <td>2020-10-22 15:52:04</td>\n",
       "      <td>cpc</td>\n",
       "      <td>vk</td>\n",
       "      <td>5dd88f32-6501-11ea-abf3-c412f533dba1</td>\n",
       "      <td>ac2c0012-6fd5-11e7-80fc-c412f533dba1</td>\n",
       "    </tr>\n",
       "  </tbody>\n",
       "</table>\n",
       "</div>"
      ],
      "text/plain": [
       "                                lead_id          created_at d_utm_medium  \\\n",
       "0  00678e71-0fb9-11eb-ac1a-c412f533dba1 2020-10-16 18:08:09          sms   \n",
       "1  0078b05d-0f1f-11eb-ac1a-c412f533dba1 2020-10-15 23:45:40          cpc   \n",
       "2  007d1401-2af3-11eb-ac1f-c412f533dba1 2020-11-20 09:41:14          cpc   \n",
       "3  0084e614-2fcc-11eb-ac1f-c412f533dba1 2020-11-26 13:44:40                \n",
       "4  009b1616-145d-11eb-ac1d-c412f533dba1 2020-10-22 15:52:04          cpc   \n",
       "\n",
       "  d_utm_source                          l_manager_id  \\\n",
       "0        viber  1e9c5562-0cfc-11ea-abe1-c412f533dba1   \n",
       "1    instagram  d12fe765-b444-11e9-abb3-c412f533dba1   \n",
       "2    instagram  43756fa4-57a0-11e9-ab9a-c412f533dba1   \n",
       "3               00000000-0000-0000-0000-000000000000   \n",
       "4           vk  5dd88f32-6501-11ea-abf3-c412f533dba1   \n",
       "\n",
       "                            l_client_id  \n",
       "0  7264cf21-a31d-11e9-abb0-c412f533dba1  \n",
       "1  606c5b29-0f88-11eb-ac1a-c412f533dba1  \n",
       "2  1f389c6a-d5ab-11e9-abbe-c412f533dba1  \n",
       "3  00000000-0000-0000-0000-000000000000  \n",
       "4  ac2c0012-6fd5-11e7-80fc-c412f533dba1  "
      ]
     },
     "execution_count": 211,
     "metadata": {},
     "output_type": "execute_result"
    }
   ],
   "source": [
    "leads_df['created_at']=pd.to_datetime(leads_df['created_at'])\n",
    "leads_df.head()"
   ]
  },
  {
   "cell_type": "code",
   "execution_count": 212,
   "metadata": {},
   "outputs": [
    {
     "data": {
      "text/html": [
       "<div>\n",
       "<style scoped>\n",
       "    .dataframe tbody tr th:only-of-type {\n",
       "        vertical-align: middle;\n",
       "    }\n",
       "\n",
       "    .dataframe tbody tr th {\n",
       "        vertical-align: top;\n",
       "    }\n",
       "\n",
       "    .dataframe thead th {\n",
       "        text-align: right;\n",
       "    }\n",
       "</style>\n",
       "<table border=\"1\" class=\"dataframe\">\n",
       "  <thead>\n",
       "    <tr style=\"text-align: right;\">\n",
       "      <th></th>\n",
       "      <th>manager_id</th>\n",
       "      <th>d_manager</th>\n",
       "      <th>d_club</th>\n",
       "    </tr>\n",
       "  </thead>\n",
       "  <tbody>\n",
       "    <tr>\n",
       "      <td>0</td>\n",
       "      <td>1e9c5562-0cfc-11ea-abe1-c412f533dba1</td>\n",
       "      <td>manager #8</td>\n",
       "      <td>club #2</td>\n",
       "    </tr>\n",
       "    <tr>\n",
       "      <td>1</td>\n",
       "      <td>43756fa4-57a0-11e9-ab9a-c412f533dba1</td>\n",
       "      <td>manager #11</td>\n",
       "      <td>club #4</td>\n",
       "    </tr>\n",
       "    <tr>\n",
       "      <td>2</td>\n",
       "      <td>543888c4-fbb3-11e9-abdc-c412f533dba1</td>\n",
       "      <td>manager #12</td>\n",
       "      <td>club #3</td>\n",
       "    </tr>\n",
       "    <tr>\n",
       "      <td>3</td>\n",
       "      <td>5dd88f32-6501-11ea-abf3-c412f533dba1</td>\n",
       "      <td>manager #10</td>\n",
       "      <td>club #2</td>\n",
       "    </tr>\n",
       "    <tr>\n",
       "      <td>4</td>\n",
       "      <td>9a87c608-52dc-11ea-abeb-c412f533dba1</td>\n",
       "      <td>manager #9</td>\n",
       "      <td>club #3</td>\n",
       "    </tr>\n",
       "  </tbody>\n",
       "</table>\n",
       "</div>"
      ],
      "text/plain": [
       "                             manager_id    d_manager   d_club\n",
       "0  1e9c5562-0cfc-11ea-abe1-c412f533dba1   manager #8  club #2\n",
       "1  43756fa4-57a0-11e9-ab9a-c412f533dba1  manager #11  club #4\n",
       "2  543888c4-fbb3-11e9-abdc-c412f533dba1  manager #12  club #3\n",
       "3  5dd88f32-6501-11ea-abf3-c412f533dba1  manager #10  club #2\n",
       "4  9a87c608-52dc-11ea-abeb-c412f533dba1   manager #9  club #3"
      ]
     },
     "execution_count": 212,
     "metadata": {},
     "output_type": "execute_result"
    }
   ],
   "source": [
    "managers_df.head()"
   ]
  },
  {
   "cell_type": "code",
   "execution_count": 213,
   "metadata": {},
   "outputs": [
    {
     "data": {
      "text/html": [
       "<div>\n",
       "<style scoped>\n",
       "    .dataframe tbody tr th:only-of-type {\n",
       "        vertical-align: middle;\n",
       "    }\n",
       "\n",
       "    .dataframe tbody tr th {\n",
       "        vertical-align: top;\n",
       "    }\n",
       "\n",
       "    .dataframe thead th {\n",
       "        text-align: right;\n",
       "    }\n",
       "</style>\n",
       "<table border=\"1\" class=\"dataframe\">\n",
       "  <thead>\n",
       "    <tr style=\"text-align: right;\">\n",
       "      <th></th>\n",
       "      <th>client_id</th>\n",
       "      <th>created_at</th>\n",
       "      <th>l_manager_id</th>\n",
       "    </tr>\n",
       "  </thead>\n",
       "  <tbody>\n",
       "    <tr>\n",
       "      <td>0</td>\n",
       "      <td>0001da7d-fcda-11ea-ac18-c412f533dba1</td>\n",
       "      <td>2020-09-22 17:46:23</td>\n",
       "      <td>9a87c608-52dc-11ea-abeb-c412f533dba1</td>\n",
       "    </tr>\n",
       "    <tr>\n",
       "      <td>1</td>\n",
       "      <td>000a8743-9ae1-11e7-8114-c412f533dba1</td>\n",
       "      <td>2017-09-16 00:00:00</td>\n",
       "      <td>ad52c7a8-a752-11e7-8115-c412f533dba1</td>\n",
       "    </tr>\n",
       "    <tr>\n",
       "      <td>2</td>\n",
       "      <td>000ae57e-2d48-11ea-abeb-c412f533dba1</td>\n",
       "      <td>2020-01-02 14:08:56</td>\n",
       "      <td>43756fa4-57a0-11e9-ab9a-c412f533dba1</td>\n",
       "    </tr>\n",
       "    <tr>\n",
       "      <td>3</td>\n",
       "      <td>00133cde-481c-11ea-abeb-c412f533dba1</td>\n",
       "      <td>2020-02-05 17:25:13</td>\n",
       "      <td>9a87c608-52dc-11ea-abeb-c412f533dba1</td>\n",
       "    </tr>\n",
       "    <tr>\n",
       "      <td>4</td>\n",
       "      <td>00148d3f-07e6-11e8-812a-c412f533dba1</td>\n",
       "      <td>2018-02-02 00:00:00</td>\n",
       "      <td>abed5496-ca88-11e9-abb8-c412f533dba1</td>\n",
       "    </tr>\n",
       "  </tbody>\n",
       "</table>\n",
       "</div>"
      ],
      "text/plain": [
       "                              client_id           created_at  \\\n",
       "0  0001da7d-fcda-11ea-ac18-c412f533dba1  2020-09-22 17:46:23   \n",
       "1  000a8743-9ae1-11e7-8114-c412f533dba1  2017-09-16 00:00:00   \n",
       "2  000ae57e-2d48-11ea-abeb-c412f533dba1  2020-01-02 14:08:56   \n",
       "3  00133cde-481c-11ea-abeb-c412f533dba1  2020-02-05 17:25:13   \n",
       "4  00148d3f-07e6-11e8-812a-c412f533dba1  2018-02-02 00:00:00   \n",
       "\n",
       "                           l_manager_id  \n",
       "0  9a87c608-52dc-11ea-abeb-c412f533dba1  \n",
       "1  ad52c7a8-a752-11e7-8115-c412f533dba1  \n",
       "2  43756fa4-57a0-11e9-ab9a-c412f533dba1  \n",
       "3  9a87c608-52dc-11ea-abeb-c412f533dba1  \n",
       "4  abed5496-ca88-11e9-abb8-c412f533dba1  "
      ]
     },
     "execution_count": 213,
     "metadata": {},
     "output_type": "execute_result"
    }
   ],
   "source": [
    "clients_df['created_at']=pd.to_datetime(clients_df['created_at'], errors='ignore')\n",
    "clients_df.head()"
   ]
  },
  {
   "cell_type": "code",
   "execution_count": 214,
   "metadata": {},
   "outputs": [
    {
     "data": {
      "text/html": [
       "<div>\n",
       "<style scoped>\n",
       "    .dataframe tbody tr th:only-of-type {\n",
       "        vertical-align: middle;\n",
       "    }\n",
       "\n",
       "    .dataframe tbody tr th {\n",
       "        vertical-align: top;\n",
       "    }\n",
       "\n",
       "    .dataframe thead th {\n",
       "        text-align: right;\n",
       "    }\n",
       "</style>\n",
       "<table border=\"1\" class=\"dataframe\">\n",
       "  <thead>\n",
       "    <tr style=\"text-align: right;\">\n",
       "      <th></th>\n",
       "      <th>transaction_id</th>\n",
       "      <th>created_at</th>\n",
       "      <th>m_real_amount</th>\n",
       "      <th>l_client_id</th>\n",
       "    </tr>\n",
       "  </thead>\n",
       "  <tbody>\n",
       "    <tr>\n",
       "      <td>0</td>\n",
       "      <td>2c9f1527-8e7f-4fb1-8000-c747a2ab46c9</td>\n",
       "      <td>2020-09-30 07:15:14</td>\n",
       "      <td>31</td>\n",
       "      <td>8a805e60-6fd6-11e7-80fc-c412f533dba1</td>\n",
       "    </tr>\n",
       "    <tr>\n",
       "      <td>1</td>\n",
       "      <td>2c9f1527-8e7f-4fb1-8000-c747a2ab46c9</td>\n",
       "      <td>2020-09-30 07:15:14</td>\n",
       "      <td>87</td>\n",
       "      <td>8a805e60-6fd6-11e7-80fc-c412f533dba1</td>\n",
       "    </tr>\n",
       "    <tr>\n",
       "      <td>2</td>\n",
       "      <td>ab8cbcf7-3271-49a0-8001-6cf9816f63b8</td>\n",
       "      <td>2020-09-12 13:47:04</td>\n",
       "      <td>49231</td>\n",
       "      <td>dc0d0e52-629a-11ea-abf3-c412f533dba1</td>\n",
       "    </tr>\n",
       "    <tr>\n",
       "      <td>3</td>\n",
       "      <td>ab8cbcf7-3271-49a0-8001-6cf9816f63b8</td>\n",
       "      <td>2020-09-12 13:47:04</td>\n",
       "      <td>17305</td>\n",
       "      <td>dc0d0e52-629a-11ea-abf3-c412f533dba1</td>\n",
       "    </tr>\n",
       "    <tr>\n",
       "      <td>4</td>\n",
       "      <td>52f8ebcc-d82d-4be1-8004-72cfbe0dff24</td>\n",
       "      <td>2020-09-25 06:00:07</td>\n",
       "      <td>9022</td>\n",
       "      <td>e663b6a0-4a1a-11e8-a2c3-c412f533dba1</td>\n",
       "    </tr>\n",
       "  </tbody>\n",
       "</table>\n",
       "</div>"
      ],
      "text/plain": [
       "                         transaction_id          created_at m_real_amount  \\\n",
       "0  2c9f1527-8e7f-4fb1-8000-c747a2ab46c9 2020-09-30 07:15:14            31   \n",
       "1  2c9f1527-8e7f-4fb1-8000-c747a2ab46c9 2020-09-30 07:15:14            87   \n",
       "2  ab8cbcf7-3271-49a0-8001-6cf9816f63b8 2020-09-12 13:47:04         49231   \n",
       "3  ab8cbcf7-3271-49a0-8001-6cf9816f63b8 2020-09-12 13:47:04         17305   \n",
       "4  52f8ebcc-d82d-4be1-8004-72cfbe0dff24 2020-09-25 06:00:07          9022   \n",
       "\n",
       "                            l_client_id  \n",
       "0  8a805e60-6fd6-11e7-80fc-c412f533dba1  \n",
       "1  8a805e60-6fd6-11e7-80fc-c412f533dba1  \n",
       "2  dc0d0e52-629a-11ea-abf3-c412f533dba1  \n",
       "3  dc0d0e52-629a-11ea-abf3-c412f533dba1  \n",
       "4  e663b6a0-4a1a-11e8-a2c3-c412f533dba1  "
      ]
     },
     "execution_count": 214,
     "metadata": {},
     "output_type": "execute_result"
    }
   ],
   "source": [
    "transactions_df['created_at']=pd.to_datetime(transactions_df['created_at'])\n",
    "transactions_df.head()"
   ]
  },
  {
   "cell_type": "raw",
   "metadata": {},
   "source": [
    "Ещё одна авторизация"
   ]
  },
  {
   "cell_type": "code",
   "execution_count": 217,
   "metadata": {},
   "outputs": [],
   "source": [
    "# Файл, полученный в Google Developer Console\n",
    "CREDENTIALS_FILE = 'creds.json'\n",
    "# ID Google Sheets документа (можно взять из его URL)\n",
    "spreadsheet_id = '1y6OR3pfiiatq44WhVYJJ9h105N-LYJCAFsNtTFLQpmE'\n",
    "\n",
    "# Авторизуемся и получаем service — экземпляр доступа к API\n",
    "credentials = ServiceAccountCredentials.from_json_keyfile_name(\n",
    "    CREDENTIALS_FILE,\n",
    " ['https://www.googleapis.com/auth/spreadsheets',\n",
    "     'https://www.googleapis.com/auth/drive'])\n",
    "httpAuth = credentials.authorize(httplib2.Http())\n",
    "service = apiclient.discovery.build('sheets', 'v4', http = httpAuth)"
   ]
  },
  {
   "cell_type": "raw",
   "metadata": {},
   "source": [
    "Общие число заявок и запись этого кол-ва"
   ]
  },
  {
   "cell_type": "code",
   "execution_count": 218,
   "metadata": {},
   "outputs": [],
   "source": [
    "count_leads = len(leads_df)\n",
    "values = service_1.spreadsheets().values().batchUpdate(\n",
    "    spreadsheetId=spreadsheet_id,\n",
    "    body={\n",
    "        \"valueInputOption\": \"USER_ENTERED\",\n",
    "        \"data\": [\n",
    "            {\"range\": \"A1:A2\",\n",
    "             \"majorDimension\": \"COLUMNS\",\n",
    "             \"values\": [['Число заявок', count_leads]]}\n",
    "\t]\n",
    "    }\n",
    ").execute()"
   ]
  },
  {
   "cell_type": "raw",
   "metadata": {},
   "source": [
    "Мусорные заявки"
   ]
  },
  {
   "cell_type": "code",
   "execution_count": 219,
   "metadata": {},
   "outputs": [],
   "source": [
    "rubbish_leads = int((~leads_df['l_client_id'].isin(clients_df['client_id'])).value_counts()[True])\n",
    "values = service_1.spreadsheets().values().batchUpdate(\n",
    "    spreadsheetId=spreadsheet_id,\n",
    "    body={\n",
    "        \"valueInputOption\": \"USER_ENTERED\",\n",
    "        \"data\": [\n",
    "            {\"range\": \"C1:C2\",\n",
    "             \"majorDimension\": \"COLUMNS\",\n",
    "             \"values\": [['Число мусорных заявок', rubbish_leads]]}\n",
    "\t]\n",
    "    }\n",
    ").execute()"
   ]
  },
  {
   "cell_type": "raw",
   "metadata": {},
   "source": [
    "Грубая проверка в лоб(на всякий случай)"
   ]
  },
  {
   "cell_type": "code",
   "execution_count": 220,
   "metadata": {},
   "outputs": [
    {
     "name": "stdout",
     "output_type": "stream",
     "text": [
      "2183\n",
      "75766\n",
      "1 00000000-0000-0000-0000-000000000000\n",
      "824\n"
     ]
    }
   ],
   "source": [
    "print(len(leads_df['l_client_id'].unique()))\n",
    "print(len(clients_df['client_id'].unique()))\n",
    "q=0\n",
    "for i in leads_df['l_client_id'].unique():\n",
    "    if i not in clients_df['client_id'].unique():\n",
    "        q+=1\n",
    "        print(q,i)\n",
    "print(len(leads_df[leads_df['l_client_id']=='00000000-0000-0000-0000-000000000000']))"
   ]
  },
  {
   "cell_type": "raw",
   "metadata": {},
   "source": [
    "Очищение таблицы от мусорных заявок"
   ]
  },
  {
   "cell_type": "code",
   "execution_count": 221,
   "metadata": {},
   "outputs": [],
   "source": [
    "leads_df=leads_df[leads_df['l_client_id']!='00000000-0000-0000-0000-000000000000']"
   ]
  },
  {
   "cell_type": "raw",
   "metadata": {},
   "source": [
    "Проверка каждой заявки на то что её сдел новый человек и соответственно запись их кол-ва"
   ]
  },
  {
   "cell_type": "code",
   "execution_count": 222,
   "metadata": {},
   "outputs": [],
   "source": [
    "new_lead=0\n",
    "for ind, lead in leads_df.iterrows():\n",
    "    # Все транзакции и запросы данного пользователя\n",
    "    all_l = leads_df[leads_df['l_client_id']==lead['l_client_id']]\n",
    "    all_t = transactions_df[transactions_df['l_client_id']==lead['l_client_id']]\n",
    "    # Проверка того что это первое действие этого человека\n",
    "    if (lead['created_at']<=all_l['created_at']).all() and (lead['created_at']<all_t['created_at']).all():\n",
    "        new_lead+=1"
   ]
  },
  {
   "cell_type": "code",
   "execution_count": 223,
   "metadata": {},
   "outputs": [],
   "source": [
    "values = service_1.spreadsheets().values().batchUpdate(\n",
    "    spreadsheetId=spreadsheet_id,\n",
    "    body={\n",
    "        \"valueInputOption\": \"USER_ENTERED\",\n",
    "        \"data\": [\n",
    "            {\"range\": \"E1:E2\",\n",
    "             \"majorDimension\": \"COLUMNS\",\n",
    "             \"values\": [['Число новых заявок', new_lead]]}\n",
    "\t]\n",
    "    }\n",
    ").execute()"
   ]
  },
  {
   "cell_type": "raw",
   "metadata": {},
   "source": [
    "Проверка на оплату в течении недели и соответственно запись их кол-ва"
   ]
  },
  {
   "cell_type": "code",
   "execution_count": 224,
   "metadata": {},
   "outputs": [
    {
     "name": "stderr",
     "output_type": "stream",
     "text": [
      "C:\\Anaconda\\lib\\site-packages\\ipykernel_launcher.py:4: UserWarning: Boolean Series key will be reindexed to match DataFrame index.\n",
      "  after removing the cwd from sys.path.\n"
     ]
    }
   ],
   "source": [
    "paid_lead = 0\n",
    "for ind, lead in leads_df.iterrows():\n",
    "    # Все не нулевые транзакции данного пользователя\n",
    "    all_t = transactions_df[transactions_df['l_client_id']==lead['l_client_id']][transactions_df['m_real_amount']!=0]\n",
    "    # Отсеивание тех транзакций которые были совершены до данного действия и тех что после 1 недели\n",
    "    cur = all_t[lead['created_at']<all_t['created_at']]\n",
    "    if ((lead['created_at']+np.timedelta64(1,'W'))>cur['created_at']).any():\n",
    "        paid_lead+=1"
   ]
  },
  {
   "cell_type": "code",
   "execution_count": 225,
   "metadata": {},
   "outputs": [],
   "source": [
    "values = service_1.spreadsheets().values().batchUpdate(\n",
    "    spreadsheetId=spreadsheet_id,\n",
    "    body={\n",
    "        \"valueInputOption\": \"USER_ENTERED\",\n",
    "        \"data\": [\n",
    "            {\"range\": \"G1:G2\",\n",
    "             \"majorDimension\": \"COLUMNS\",\n",
    "             \"values\": [['Число оплаченных заявок', paid_lead]]}\n",
    "\t]\n",
    "    }\n",
    ").execute()"
   ]
  },
  {
   "cell_type": "raw",
   "metadata": {},
   "source": [
    "Проверка на оплату в течении недели новыми клиентами и соответственно запись их кол-ва"
   ]
  },
  {
   "cell_type": "code",
   "execution_count": 226,
   "metadata": {},
   "outputs": [
    {
     "name": "stderr",
     "output_type": "stream",
     "text": [
      "C:\\Anaconda\\lib\\site-packages\\ipykernel_launcher.py:5: UserWarning: Boolean Series key will be reindexed to match DataFrame index.\n",
      "  \"\"\"\n"
     ]
    }
   ],
   "source": [
    "new_paid_lead = 0\n",
    "for ind, lead in leads_df.iterrows():\n",
    "    # Все заказы данного пользователя и не нулевые транзакции данного пользователя\n",
    "    all_l = leads_df[leads_df['l_client_id']==lead['l_client_id']]\n",
    "    all_t = transactions_df[transactions_df['l_client_id']==lead['l_client_id']][transactions_df['m_real_amount']!=0]\n",
    "    # Отсеивание тех транзакций которые были совершены до данного действия\n",
    "    cur = all_t[lead['created_at']<all_t['created_at']]\n",
    "    # Проверка того что это первое действие этого человека и того что транзакция была в течении 1 недели\n",
    "    if (lead['created_at']<=all_l['created_at']).all() and \\\n",
    "       (lead['created_at']<all_t['created_at']).all() and \\\n",
    "       ((lead['created_at']+np.timedelta64(1,'W'))>cur['created_at']).any():\n",
    "        new_paid_lead+=1"
   ]
  },
  {
   "cell_type": "code",
   "execution_count": 227,
   "metadata": {},
   "outputs": [],
   "source": [
    "values = service_1.spreadsheets().values().batchUpdate(\n",
    "    spreadsheetId=spreadsheet_id,\n",
    "    body={\n",
    "        \"valueInputOption\": \"USER_ENTERED\",\n",
    "        \"data\": [\n",
    "            {\"range\": \"I1:I2\",\n",
    "             \"majorDimension\": \"COLUMNS\",\n",
    "             \"values\": [['Число новых оплаченных заявок', new_paid_lead]]}\n",
    "\t]\n",
    "    }\n",
    ").execute()"
   ]
  },
  {
   "cell_type": "raw",
   "metadata": {},
   "source": [
    "Сумма оплаты новыми покупателями и соответственно запись их кол-ва"
   ]
  },
  {
   "cell_type": "code",
   "execution_count": 228,
   "metadata": {},
   "outputs": [
    {
     "name": "stderr",
     "output_type": "stream",
     "text": [
      "C:\\Anaconda\\lib\\site-packages\\ipykernel_launcher.py:5: UserWarning: Boolean Series key will be reindexed to match DataFrame index.\n",
      "  \"\"\"\n"
     ]
    },
    {
     "ename": "TypeError",
     "evalue": "string indices must be integers",
     "output_type": "error",
     "traceback": [
      "\u001b[1;31m---------------------------------------------------------------------------\u001b[0m",
      "\u001b[1;31mTypeError\u001b[0m                                 Traceback (most recent call last)",
      "\u001b[1;32m<ipython-input-228-d1534db5f28c>\u001b[0m in \u001b[0;36m<module>\u001b[1;34m\u001b[0m\n\u001b[0;32m      5\u001b[0m     \u001b[0mall_t\u001b[0m \u001b[1;33m=\u001b[0m \u001b[0mtransactions_df\u001b[0m\u001b[1;33m[\u001b[0m\u001b[0mtransactions_df\u001b[0m\u001b[1;33m[\u001b[0m\u001b[1;34m'l_client_id'\u001b[0m\u001b[1;33m]\u001b[0m\u001b[1;33m==\u001b[0m\u001b[0mlead\u001b[0m\u001b[1;33m[\u001b[0m\u001b[1;34m'l_client_id'\u001b[0m\u001b[1;33m]\u001b[0m\u001b[1;33m]\u001b[0m\u001b[1;33m[\u001b[0m\u001b[0mtransactions_df\u001b[0m\u001b[1;33m[\u001b[0m\u001b[1;34m'm_real_amount'\u001b[0m\u001b[1;33m]\u001b[0m\u001b[1;33m!=\u001b[0m\u001b[1;36m0\u001b[0m\u001b[1;33m]\u001b[0m\u001b[1;33m\u001b[0m\u001b[1;33m\u001b[0m\u001b[0m\n\u001b[0;32m      6\u001b[0m     \u001b[1;31m# Отсеивание тех транзакций которые были совершены до данного действия\u001b[0m\u001b[1;33m\u001b[0m\u001b[1;33m\u001b[0m\u001b[1;33m\u001b[0m\u001b[0m\n\u001b[1;32m----> 7\u001b[1;33m     \u001b[0mcur\u001b[0m \u001b[1;33m=\u001b[0m \u001b[0mall_t\u001b[0m\u001b[1;33m[\u001b[0m\u001b[0mi\u001b[0m\u001b[1;33m[\u001b[0m\u001b[1;34m'created_at'\u001b[0m\u001b[1;33m]\u001b[0m\u001b[1;33m<\u001b[0m\u001b[0mall_t\u001b[0m\u001b[1;33m[\u001b[0m\u001b[1;34m'created_at'\u001b[0m\u001b[1;33m]\u001b[0m\u001b[1;33m]\u001b[0m\u001b[1;33m\u001b[0m\u001b[1;33m\u001b[0m\u001b[0m\n\u001b[0m\u001b[0;32m      8\u001b[0m     \u001b[1;31m# Проверка того что это первое действие этого человека и того что транзакция была в течении 1 недели\u001b[0m\u001b[1;33m\u001b[0m\u001b[1;33m\u001b[0m\u001b[1;33m\u001b[0m\u001b[0m\n\u001b[0;32m      9\u001b[0m     \u001b[1;32mif\u001b[0m \u001b[1;33m(\u001b[0m\u001b[1;33m(\u001b[0m\u001b[0mlead\u001b[0m\u001b[1;33m[\u001b[0m\u001b[1;34m'created_at'\u001b[0m\u001b[1;33m]\u001b[0m\u001b[1;33m+\u001b[0m\u001b[0mnp\u001b[0m\u001b[1;33m.\u001b[0m\u001b[0mtimedelta64\u001b[0m\u001b[1;33m(\u001b[0m\u001b[1;36m1\u001b[0m\u001b[1;33m,\u001b[0m\u001b[1;34m'W'\u001b[0m\u001b[1;33m)\u001b[0m\u001b[1;33m)\u001b[0m\u001b[1;33m>\u001b[0m\u001b[0mcur\u001b[0m\u001b[1;33m[\u001b[0m\u001b[1;34m'created_at'\u001b[0m\u001b[1;33m]\u001b[0m\u001b[1;33m)\u001b[0m\u001b[1;33m.\u001b[0m\u001b[0many\u001b[0m\u001b[1;33m(\u001b[0m\u001b[1;33m)\u001b[0m\u001b[1;33m:\u001b[0m\u001b[1;33m\u001b[0m\u001b[1;33m\u001b[0m\u001b[0m\n",
      "\u001b[1;31mTypeError\u001b[0m: string indices must be integers"
     ]
    }
   ],
   "source": [
    "summ=0\n",
    "for ind, lead in leads_df.iterrows():\n",
    "    # Все заказы данного пользователя и не нулевые транзакции данного пользователя\n",
    "    all_l = leads_df[leads_df['l_client_id']==lead['l_client_id']]\n",
    "    all_t = transactions_df[transactions_df['l_client_id']==lead['l_client_id']][transactions_df['m_real_amount']!=0]\n",
    "    # Отсеивание тех транзакций которые были совершены до данного действия\n",
    "    cur = all_t[i['created_at']<all_t['created_at']]\n",
    "    # Проверка того что это первое действие этого человека и того что транзакция была в течении 1 недели\n",
    "    if ((lead['created_at']+np.timedelta64(1,'W'))>cur['created_at']).any():\n",
    "        if (lead['created_at']<=all_l['created_at']).all() and \\\n",
    "           (lead['created_at']<all_t['created_at']).all():\n",
    "            # Если запрос прошёл проверку на то что он сделан новым человеком, то нам достаточно \n",
    "            # только отсеить транзакции которые были совершены не позже чем через неделю после заявки\n",
    "            cur_s = cur[(lead['created_at']+np.timedelta64(1,'W'))>cur['created_at']]\n",
    "            summ+=int(cur_s['m_real_amount'].values[0])"
   ]
  },
  {
   "cell_type": "code",
   "execution_count": null,
   "metadata": {},
   "outputs": [],
   "source": [
    "values = service_1.spreadsheets().values().batchUpdate(\n",
    "    spreadsheetId=spreadsheet_id,\n",
    "    body={\n",
    "        \"valueInputOption\": \"USER_ENTERED\",\n",
    "        \"data\": [\n",
    "            {\"range\": \"K1:K2\",\n",
    "             \"majorDimension\": \"COLUMNS\",\n",
    "             \"values\": [['Сумма полученнвая от новых оплаченных заявок', summ]]}\n",
    "\t]\n",
    "    }\n",
    ").execute()"
   ]
  },
  {
   "cell_type": "raw",
   "metadata": {},
   "source": [
    "Фильтрация заказов по каналу привлечения"
   ]
  },
  {
   "cell_type": "code",
   "execution_count": null,
   "metadata": {},
   "outputs": [],
   "source": [
    "uniq = leads_df['d_utm_source'].unique()\n",
    "uniq"
   ]
  },
  {
   "cell_type": "code",
   "execution_count": null,
   "metadata": {},
   "outputs": [],
   "source": [
    "ind = 0 # Заменить при наобходимости на индекс любого из списка выше\n",
    "\n",
    "final_leads_df = leads_df[leads_df['d_utm_source']==uniq[ind]]"
   ]
  },
  {
   "cell_type": "raw",
   "metadata": {},
   "source": [
    "Фильтрация заказов по номеру менеджера"
   ]
  },
  {
   "cell_type": "code",
   "execution_count": null,
   "metadata": {},
   "outputs": [],
   "source": [
    "uniq = managers_df['d_manager'].unique()\n",
    "uniq"
   ]
  },
  {
   "cell_type": "code",
   "execution_count": null,
   "metadata": {},
   "outputs": [],
   "source": [
    "ind = 0 # Заменить при наобходимости на индекс любого из списка выше\n",
    "id_manager = managers_df[managers_df['d_manager']==uniq[ind]]['manager_id'].values[0]\n",
    "final_leads_df = leads_df[leads_df['l_manager_id']==id_manager]"
   ]
  },
  {
   "cell_type": "raw",
   "metadata": {},
   "source": [
    "Фильтрация заказов по клубу менеджера"
   ]
  },
  {
   "cell_type": "code",
   "execution_count": null,
   "metadata": {},
   "outputs": [],
   "source": [
    "uniq = managers_df['d_club'].unique()\n",
    "uniq"
   ]
  },
  {
   "cell_type": "code",
   "execution_count": null,
   "metadata": {},
   "outputs": [],
   "source": [
    "ind = 0 # Заменить при наобходимости на индекс любого из списка выше\n",
    "id_managers = managers_df[managers_df['d_club']==uniq[ind]]['manager_id'].values[0]\n",
    "final_leads_df = leads_df[leads_df['l_manager_id']==id_managers]"
   ]
  },
  {
   "cell_type": "code",
   "execution_count": null,
   "metadata": {},
   "outputs": [],
   "source": []
  },
  {
   "cell_type": "code",
   "execution_count": null,
   "metadata": {},
   "outputs": [],
   "source": []
  }
 ],
 "metadata": {
  "kernelspec": {
   "display_name": "Python 3",
   "language": "python",
   "name": "python3"
  },
  "language_info": {
   "codemirror_mode": {
    "name": "ipython",
    "version": 3
   },
   "file_extension": ".py",
   "mimetype": "text/x-python",
   "name": "python",
   "nbconvert_exporter": "python",
   "pygments_lexer": "ipython3",
   "version": "3.6.9"
  }
 },
 "nbformat": 4,
 "nbformat_minor": 2
}
